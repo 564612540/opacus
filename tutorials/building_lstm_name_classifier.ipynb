{
  "nbformat": 4,
  "nbformat_minor": 0,
  "metadata": {
    "kernelspec": {
      "display_name": "Python 3 (ipykernel)",
      "language": "python",
      "name": "python3"
    },
    "language_info": {
      "codemirror_mode": {
        "name": "ipython",
        "version": 3
      },
      "file_extension": ".py",
      "mimetype": "text/x-python",
      "name": "python",
      "nbconvert_exporter": "python",
      "pygments_lexer": "ipython3",
      "version": "3.7.5"
    },
    "colab": {
      "name": "building_lstm_name_classifier.ipynb",
      "provenance": []
    },
    "accelerator": "GPU"
  },
  "cells": [
    {
      "cell_type": "markdown",
      "metadata": {
        "id": "-CThlL2nfLLR"
      },
      "source": [
        "## Training a differentially private LSTM model for name classification"
      ]
    },
    {
      "cell_type": "markdown",
      "metadata": {
        "id": "4fmv7SjCfLLS"
      },
      "source": [
        "In this tutorial we will build a differentially-private LSTM model to classify names to their source languages, which is the same task as in the tutorial **NLP From Scratch** (https://pytorch.org/tutorials/intermediate/char_rnn_classification_tutorial.html). Since the objective of this tutorial is to demonstrate the effective use of an LSTM with privacy guarantees, we will be utilizing it in place of the bare-bones RNN model defined in the original tutorial. Specifically, we use the `DPLSTM` module from `opacus.layers.dp_lstm` to facilitate calculation of the per-example gradients, which are utilized in the addition of noise during application of differential privacy. `DPLSTM` has the same API and functionality as the `nn.LSTM`, with some restrictions (ex. we currently support single layers, the full list is given below).  "
      ]
    },
    {
      "cell_type": "markdown",
      "metadata": {
        "id": "sMX5h9VlfLLS"
      },
      "source": [
        "## Dataset"
      ]
    },
    {
      "cell_type": "markdown",
      "metadata": {
        "id": "NY22tqpyfLLS"
      },
      "source": [
        "First, let us download the dataset of names and their associated language labels as given in https://pytorch.org/tutorials/intermediate/char_rnn_classification_tutorial.html. We train our differentially-private LSTM on the same dataset as in that tutorial."
      ]
    },
    {
      "cell_type": "code",
      "metadata": {
        "colab": {
          "base_uri": "https://localhost:8080/"
        },
        "id": "l_rnN_OZfLLT",
        "outputId": "cc4a5475-c15e-437f-f27a-663b6009afe6"
      },
      "source": [
        "import os\n",
        "import requests\n",
        "\n",
        "NAMES_DATASET_URL = \"https://download.pytorch.org/tutorial/data.zip\"\n",
        "DATA_DIR = \"names\"\n",
        "\n",
        "import zipfile\n",
        "import urllib\n",
        "\n",
        "def download_and_extract(dataset_url, data_dir):\n",
        "    print(\"Downloading and extracting ...\")\n",
        "    filename = \"data.zip\"\n",
        "\n",
        "    urllib.request.urlretrieve(dataset_url, filename)\n",
        "    with zipfile.ZipFile(filename) as zip_ref:\n",
        "        zip_ref.extractall(data_dir)\n",
        "    os.remove(filename)\n",
        "    print(\"Completed!\")\n",
        "\n",
        "download_and_extract(NAMES_DATASET_URL, DATA_DIR)"
      ],
      "execution_count": 1,
      "outputs": [
        {
          "output_type": "stream",
          "name": "stdout",
          "text": [
            "Downloading and extracting ...\n",
            "Completed!\n"
          ]
        }
      ]
    },
    {
      "cell_type": "code",
      "metadata": {
        "colab": {
          "base_uri": "https://localhost:8080/"
        },
        "id": "2p5Z3Lg6fLLU",
        "outputId": "37c660c4-d1f1-46d9-b753-9c205adc2aa1"
      },
      "source": [
        "names_folder = os.path.join(DATA_DIR, 'data', 'names')\n",
        "all_filenames = []\n",
        "\n",
        "for language_file in os.listdir(names_folder):\n",
        "    all_filenames.append(os.path.join(names_folder, language_file))\n",
        "    \n",
        "print(os.listdir(names_folder))"
      ],
      "execution_count": 2,
      "outputs": [
        {
          "output_type": "stream",
          "name": "stdout",
          "text": [
            "['Japanese.txt', 'French.txt', 'Greek.txt', 'Vietnamese.txt', 'Portuguese.txt', 'Irish.txt', 'Spanish.txt', 'Italian.txt', 'Polish.txt', 'Arabic.txt', 'Korean.txt', 'Russian.txt', 'Chinese.txt', 'Dutch.txt', 'English.txt', 'Scottish.txt', 'German.txt', 'Czech.txt']\n"
          ]
        }
      ]
    },
    {
      "cell_type": "code",
      "metadata": {
        "id": "XTwrOY6lfLLV"
      },
      "source": [
        "import torch\n",
        "import torch.nn as nn\n",
        "\n",
        "class CharByteEncoder(nn.Module):\n",
        "    \"\"\"\n",
        "    This encoder takes a UTF-8 string and encodes its bytes into a Tensor. It can also\n",
        "    perform the opposite operation to check a result.\n",
        "    Examples:\n",
        "    >>> encoder = CharByteEncoder()\n",
        "    >>> t = encoder('Ślusàrski')  # returns tensor([256, 197, 154, 108, 117, 115, 195, 160, 114, 115, 107, 105, 257])\n",
        "    >>> encoder.decode(t)  # returns \"<s>Ślusàrski</s>\"\n",
        "    \"\"\"\n",
        "\n",
        "    def __init__(self):\n",
        "        super().__init__()\n",
        "        self.start_token = \"<s>\"\n",
        "        self.end_token = \"</s>\"\n",
        "        self.pad_token = \"<pad>\"\n",
        "\n",
        "        self.start_idx = 256\n",
        "        self.end_idx = 257\n",
        "        self.pad_idx = 258\n",
        "\n",
        "    def forward(self, s: str, pad_to=0) -> torch.LongTensor:\n",
        "        \"\"\"\n",
        "        Encodes a string. It will append a start token <s> (id=self.start_idx) and an end token </s>\n",
        "        (id=self.end_idx).\n",
        "        Args:\n",
        "            s: The string to encode.\n",
        "            pad_to: If not zero, pad by appending self.pad_idx until string is of length `pad_to`.\n",
        "                Defaults to 0.\n",
        "        Returns:\n",
        "            The encoded LongTensor of indices.\n",
        "        \"\"\"\n",
        "        encoded = s.encode()\n",
        "        n_pad = pad_to - len(encoded) if pad_to > len(encoded) else 0\n",
        "        return torch.LongTensor(\n",
        "            [self.start_idx]\n",
        "            + [c for c in encoded]  # noqa\n",
        "            + [self.end_idx]\n",
        "            + [self.pad_idx for _ in range(n_pad)]\n",
        "        )\n",
        "\n",
        "    def decode(self, char_ids_tensor: torch.LongTensor) -> str:\n",
        "        \"\"\"\n",
        "        The inverse of `forward`. Keeps the start, end and pad indices.\n",
        "        \"\"\"\n",
        "        char_ids = char_ids_tensor.cpu().detach().tolist()\n",
        "\n",
        "        out = []\n",
        "        buf = []\n",
        "        for c in char_ids:\n",
        "            if c < 256:\n",
        "                buf.append(c)\n",
        "            else:\n",
        "                if buf:\n",
        "                    out.append(bytes(buf).decode())\n",
        "                    buf = []\n",
        "                if c == self.start_idx:\n",
        "                    out.append(self.start_token)\n",
        "                elif c == self.end_idx:\n",
        "                    out.append(self.end_token)\n",
        "                elif c == self.pad_idx:\n",
        "                    out.append(self.pad_token)\n",
        "\n",
        "        if buf:  # in case some are left\n",
        "            out.append(bytes(buf).decode())\n",
        "        return \"\".join(out)\n",
        "\n",
        "    def __len__(self):\n",
        "        \"\"\"\n",
        "        The length of our encoder space. This is fixed to 256 (one byte) + 3 special chars\n",
        "        (start, end, pad).\n",
        "        Returns:\n",
        "            259\n",
        "        \"\"\"\n",
        "        return 259"
      ],
      "execution_count": 3,
      "outputs": []
    },
    {
      "cell_type": "markdown",
      "metadata": {
        "id": "I1t81opqfLLc"
      },
      "source": [
        "## Training / Validation Set Preparation"
      ]
    },
    {
      "cell_type": "code",
      "metadata": {
        "id": "K0Ym2mvufLLc"
      },
      "source": [
        "from torch.nn.utils.rnn import pad_sequence\n",
        "\n",
        "def padded_collate(batch, padding_idx=0):\n",
        "    x = pad_sequence(\n",
        "        [elem[0] for elem in batch], batch_first=True, padding_value=padding_idx\n",
        "    )\n",
        "    y = torch.stack([elem[1] for elem in batch]).long()\n",
        "\n",
        "    return x, y"
      ],
      "execution_count": 4,
      "outputs": []
    },
    {
      "cell_type": "code",
      "metadata": {
        "id": "r2GzZot9fLLc"
      },
      "source": [
        "from torch.utils.data import Dataset\n",
        "from pathlib import Path\n",
        "\n",
        "\n",
        "class NamesDataset(Dataset):\n",
        "    def __init__(self, root):\n",
        "        self.root = Path(root)\n",
        "\n",
        "        self.labels = list({langfile.stem for langfile in self.root.iterdir()})\n",
        "        self.labels_dict = {label: i for i, label in enumerate(self.labels)}\n",
        "        self.encoder = CharByteEncoder()\n",
        "        self.samples = self.construct_samples()\n",
        "\n",
        "    def __getitem__(self, i):\n",
        "        return self.samples[i]\n",
        "\n",
        "    def __len__(self):\n",
        "        return len(self.samples)\n",
        "\n",
        "    def construct_samples(self):\n",
        "        samples = []\n",
        "        for langfile in self.root.iterdir():\n",
        "            label_name = langfile.stem\n",
        "            label_id = self.labels_dict[label_name]\n",
        "            with open(langfile, \"r\") as fin:\n",
        "                for row in fin:\n",
        "                    samples.append(\n",
        "                        (self.encoder(row.strip()), torch.tensor(label_id).long())\n",
        "                    )\n",
        "        return samples\n",
        "\n",
        "    def label_count(self):\n",
        "        cnt = Counter()\n",
        "        for _x, y in self.samples:\n",
        "            label = self.labels[int(y)]\n",
        "            cnt[label] += 1\n",
        "        return cnt\n",
        "\n",
        "\n",
        "VOCAB_SIZE = 256 + 3  # 256 alternatives in one byte, plus 3 special characters.\n"
      ],
      "execution_count": 5,
      "outputs": []
    },
    {
      "cell_type": "markdown",
      "metadata": {
        "id": "9OrDz-g0fLLd"
      },
      "source": [
        "We split the dataset into a 80-20 split for training and validation. "
      ]
    },
    {
      "cell_type": "code",
      "metadata": {
        "colab": {
          "base_uri": "https://localhost:8080/"
        },
        "id": "e6TXUIZrfLLd",
        "outputId": "5eba25ac-7c70-4a8c-d360-15958cf68b91"
      },
      "source": [
        "secure_mode = False\n",
        "train_split = 0.8\n",
        "test_every = 5\n",
        "batch_size = 800\n",
        "\n",
        "ds = NamesDataset(names_folder)\n",
        "train_len = int(train_split * len(ds))\n",
        "test_len = len(ds) - train_len\n",
        "\n",
        "print(f\"{train_len} samples for training, {test_len} for testing\")\n",
        "\n",
        "train_ds, test_ds = torch.utils.data.random_split(ds, [train_len, test_len])"
      ],
      "execution_count": 6,
      "outputs": [
        {
          "output_type": "stream",
          "name": "stdout",
          "text": [
            "16059 samples for training, 4015 for testing\n"
          ]
        }
      ]
    },
    {
      "cell_type": "code",
      "metadata": {
        "id": "vs_rbnR3fLLe"
      },
      "source": [
        "from torch.utils.data import DataLoader\n",
        "\n",
        "train_loader = DataLoader(\n",
        "    train_ds,\n",
        "    batch_size=batch_size,\n",
        "    pin_memory=True,\n",
        "    collate_fn=padded_collate,\n",
        ")\n",
        "\n",
        "test_loader = DataLoader(\n",
        "    test_ds,\n",
        "    batch_size=2 * batch_size,\n",
        "    shuffle=False,\n",
        "    pin_memory=True,\n",
        "    collate_fn=padded_collate,\n",
        ")"
      ],
      "execution_count": 7,
      "outputs": []
    },
    {
      "cell_type": "markdown",
      "metadata": {
        "id": "6KCmzfmHfLLe"
      },
      "source": [
        "After splitting the dataset into a training and a validation set, we now have to convert the data into a numeric form suitable for training the LSTM model. For each name, we set a maximum sequence length of 15, and if a name is longer than the threshold, we truncate it (this rarely happens this dataset !). If a name is smaller than the threshold, we add a dummy `#` character to pad it to the desired length. We also batch the names in the dataset and set a batch size of 256 for all the experiments in this tutorial. The function `line_to_tensor()` returns a tensor of shape [15, 256] where each element is the index (in `all_letters`) of the corresponding character."
      ]
    },
    {
      "cell_type": "markdown",
      "metadata": {
        "id": "901q39HKfLLe"
      },
      "source": [
        "## Training/Evaluation Cycle "
      ]
    },
    {
      "cell_type": "markdown",
      "metadata": {
        "id": "MVn0S7jyfLLe"
      },
      "source": [
        "The training and the evaluation functions `train()` and `test()` are defined below. During the training loop, the per-example gradients are computed and the parameters are updated subsequent to gradient clipping (to bound their sensitivity) and addition of noise.  "
      ]
    },
    {
      "cell_type": "code",
      "metadata": {
        "id": "0nN98_rafLLe"
      },
      "source": [
        "from statistics import mean\n",
        "\n",
        "def train(model, criterion, optimizer, train_loader, epoch, device=\"cuda:0\"):\n",
        "    accs = []\n",
        "    losses = []\n",
        "    for x, y in train_loader:\n",
        "        x = x.to(device)\n",
        "        y = y.to(device)\n",
        "\n",
        "        logits = model(x)\n",
        "        loss = criterion(logits, y)\n",
        "        loss.backward()\n",
        "\n",
        "        optimizer.step()\n",
        "        optimizer.zero_grad()\n",
        "\n",
        "        preds = logits.argmax(-1)\n",
        "        n_correct = float(preds.eq(y).sum())\n",
        "        batch_accuracy = n_correct / len(y)\n",
        "\n",
        "        accs.append(batch_accuracy)\n",
        "        losses.append(float(loss))\n",
        "\n",
        "    printstr = (\n",
        "        f\"\\t Epoch {epoch}. Accuracy: {mean(accs):.6f} | Loss: {mean(losses):.6f}\"\n",
        "    )\n",
        "    try:\n",
        "        privacy_engine = optimizer.privacy_engine\n",
        "        epsilon = privacy_engine.get_epsilon(delta)\n",
        "        printstr += f\" | (ε = {epsilon:.2f}, δ = {delta})\"\n",
        "    except AttributeError:\n",
        "        pass\n",
        "    print(printstr)\n",
        "    return\n",
        "\n",
        "\n",
        "def test(model, test_loader, privacy_engine, device=\"cuda:0\"):\n",
        "    accs = []\n",
        "    with torch.no_grad():\n",
        "        for x, y in test_loader:\n",
        "            x = x.to(device)\n",
        "            y = y.to(device)\n",
        "\n",
        "            preds = model(x).argmax(-1)\n",
        "            n_correct = float(preds.eq(y).sum())\n",
        "            batch_accuracy = n_correct / len(y)\n",
        "\n",
        "            accs.append(batch_accuracy)\n",
        "    printstr = \"\\n----------------------------\\n\" f\"Test Accuracy: {mean(accs):.6f}\"\n",
        "    if privacy_engine:\n",
        "        epsilon = privacy_engine.get_epsilon(delta)\n",
        "        printstr += f\" (ε = {epsilon:.2f}, δ = {delta})\"\n",
        "    print(printstr + \"\\n----------------------------\\n\")\n",
        "    return\n"
      ],
      "execution_count": 8,
      "outputs": []
    },
    {
      "cell_type": "markdown",
      "metadata": {
        "id": "f6NnT_H6fLLf"
      },
      "source": [
        "## Hyper-parameters"
      ]
    },
    {
      "cell_type": "markdown",
      "metadata": {
        "id": "DOXEw1xvfLLf"
      },
      "source": [
        "There are two sets of hyper-parameters associated with this model. The first are hyper-parameters which we would expect in any machine learning training, such as the learning rate and batch size. The second set are related to the privacy engine, where for example we define the amount of noise added to the gradients (`noise_multiplier`), and the maximum L2 norm to which the per-sample gradients are clipped (`max_grad_norm`). "
      ]
    },
    {
      "cell_type": "code",
      "metadata": {
        "id": "ybPtwUTcfLLf"
      },
      "source": [
        "# Training hyper-parameters\n",
        "epochs = 50\n",
        "learning_rate = 2.0\n",
        "\n",
        "# Privacy engine hyper-parameters\n",
        "max_per_sample_grad_norm = 1.5\n",
        "delta = 8e-5\n",
        "epsilon = 12.0"
      ],
      "execution_count": 9,
      "outputs": []
    },
    {
      "cell_type": "markdown",
      "metadata": {
        "id": "D0bo7rdlfLLf"
      },
      "source": [
        "## Model"
      ]
    },
    {
      "cell_type": "markdown",
      "metadata": {
        "id": "4N4-df8vfLLg"
      },
      "source": [
        "We define the name classification model in the cell below. Note that it is a simple char-LSTM classifier, where the input characters are passed through an `nn.Embedding` layer, and are subsequently input to the DPLSTM. "
      ]
    },
    {
      "cell_type": "code",
      "metadata": {
        "id": "uaoWY30LfLLg"
      },
      "source": [
        "import torch\n",
        "from torch import nn\n",
        "from opacus.layers import DPLSTM\n",
        "\n",
        "class CharNNClassifier(nn.Module):\n",
        "    def __init__(\n",
        "        self,\n",
        "        embedding_size,\n",
        "        hidden_size,\n",
        "        output_size,\n",
        "        num_lstm_layers=1,\n",
        "        bidirectional=False,\n",
        "        vocab_size=VOCAB_SIZE,\n",
        "    ):\n",
        "        super().__init__()\n",
        "\n",
        "        self.embedding_size = embedding_size\n",
        "        self.hidden_size = hidden_size\n",
        "        self.output_size = output_size\n",
        "        self.vocab_size = vocab_size\n",
        "\n",
        "        self.embedding = nn.Embedding(vocab_size, embedding_size)\n",
        "        self.lstm = DPLSTM(\n",
        "            embedding_size,\n",
        "            hidden_size,\n",
        "            num_layers=num_lstm_layers,\n",
        "            bidirectional=bidirectional,\n",
        "            batch_first=True,\n",
        "        )\n",
        "        self.out_layer = nn.Linear(hidden_size, output_size)\n",
        "\n",
        "    def forward(self, x, hidden=None):\n",
        "        x = self.embedding(x)  # -> [B, T, D]\n",
        "        x, _ = self.lstm(x, hidden)  # -> [B, T, H]\n",
        "        x = x[:, -1, :]  # -> [B, H]\n",
        "        x = self.out_layer(x)  # -> [B, C]\n",
        "        return x"
      ],
      "execution_count": 10,
      "outputs": []
    },
    {
      "cell_type": "markdown",
      "metadata": {
        "id": "f_ZZb4pofLLg"
      },
      "source": [
        "We now proceed to instantiate the objects (privacy engine, model and optimizer) for our differentially-private LSTM training.  However, the `nn.LSTM` is replaced with a `DPLSTM` module which enables us to calculate per-example gradients. "
      ]
    },
    {
      "cell_type": "code",
      "metadata": {
        "id": "enamkCUsfLLg"
      },
      "source": [
        "# Set the device to run on a GPU\n",
        "device = torch.device(\"cuda\" if torch.cuda.is_available() else \"cpu\")\n",
        "\n",
        "# Define classifier parameters\n",
        "embedding_size = 64\n",
        "hidden_size = 128  # Number of neurons in hidden layer after LSTM\n",
        "n_lstm_layers = 1\n",
        "bidirectional_lstm = False\n",
        "\n",
        "model = CharNNClassifier(\n",
        "    embedding_size,\n",
        "    hidden_size,\n",
        "    len(ds.labels),\n",
        "    n_lstm_layers,\n",
        "    bidirectional_lstm,\n",
        ").to(device)"
      ],
      "execution_count": 11,
      "outputs": []
    },
    {
      "cell_type": "markdown",
      "metadata": {
        "id": "6UMx1FL1fLLg"
      },
      "source": [
        "## Defining the privacy engine, optimizer and loss criterion for the problem"
      ]
    },
    {
      "cell_type": "code",
      "metadata": {
        "id": "RaWSnuJ5fLLh"
      },
      "source": [
        "criterion = nn.CrossEntropyLoss()\n",
        "optimizer = torch.optim.SGD(model.parameters(), lr=learning_rate)"
      ],
      "execution_count": 12,
      "outputs": []
    },
    {
      "cell_type": "code",
      "metadata": {
        "colab": {
          "base_uri": "https://localhost:8080/"
        },
        "id": "6KhbL1PxfLLh",
        "outputId": "374a83e6-d455-411b-f778-8240b5a86d95"
      },
      "source": [
        "from opacus import PrivacyEngine\n",
        "\n",
        "privacy_engine = PrivacyEngine(secure_mode=secure_mode)\n",
        "\n",
        "model, optimizer, train_loader = privacy_engine.make_private_with_epsilon(\n",
        "    module=model,\n",
        "    optimizer=optimizer,\n",
        "    data_loader=train_loader,\n",
        "    max_grad_norm=max_per_sample_grad_norm,\n",
        "    target_delta=delta,\n",
        "    target_epsilon=epsilon,\n",
        "    epochs=epochs,\n",
        ")"
      ],
      "execution_count": 13,
      "outputs": [
        {
          "output_type": "stream",
          "name": "stderr",
          "text": [
            "/usr/local/lib/python3.7/dist-packages/opacus/privacy_engine.py:101: UserWarning: Secure RNG turned off. This is perfectly fine for experimentation as it allows for much faster training performance, but remember to turn it on and retrain one last time before production with ``secure_mode`` turned on.\n",
            "  \"Secure RNG turned off. This is perfectly fine for experimentation as it allows \"\n"
          ]
        }
      ]
    },
    {
      "cell_type": "markdown",
      "metadata": {
        "id": "DSfO1wW0fLLh"
      },
      "source": [
        "## Training the name classifier with privacy"
      ]
    },
    {
      "cell_type": "markdown",
      "metadata": {
        "id": "rvCVvQ-2fLLh"
      },
      "source": [
        "Finally we can start training ! We will be training for 50 epochs iterations (where each epoch corresponds to a pass over the whole dataset). We will be reporting the privacy epsilon every `test_every` epochs. We will also benchmark this differentially-private model against a model without privacy and obtain almost identical performance. Further, the private model trained with Opacus incurs only minimal overhead in training time, with the differentially-private classifier only slightly slower (by a couple of minutes) than the non-private model."
      ]
    },
    {
      "cell_type": "code",
      "metadata": {
        "colab": {
          "base_uri": "https://localhost:8080/"
        },
        "id": "MV5on90vfLLh",
        "outputId": "a14828bc-db7c-41d9-f5e4-890231339299"
      },
      "source": [
        "print(\"Train stats: \\n\")\n",
        "for epoch in range(epochs):\n",
        "    train(model, criterion, optimizer, train_loader, epoch, device=device)\n",
        "    if test_every:\n",
        "        if epoch % test_every == 0:\n",
        "            test(model, test_loader, privacy_engine, device=device)\n",
        "\n",
        "test(model, test_loader, privacy_engine, device=device)"
      ],
      "execution_count": 14,
      "outputs": [
        {
          "output_type": "stream",
          "name": "stdout",
          "text": [
            "Train stats: \n",
            "\n"
          ]
        },
        {
          "output_type": "stream",
          "name": "stderr",
          "text": [
            "/usr/local/lib/python3.7/dist-packages/torch/nn/modules/module.py:1025: UserWarning: Using a non-full backward hook when the forward contains multiple autograd Nodes is deprecated and will be removed in future versions. This hook will be missing some grad_input. Please use register_full_backward_hook to get the documented behavior.\n",
            "  warnings.warn(\"Using a non-full backward hook when the forward contains multiple autograd Nodes \"\n"
          ]
        },
        {
          "output_type": "stream",
          "name": "stdout",
          "text": [
            "\t Epoch 0. Accuracy: 0.430386 | Loss: 2.210102\n",
            "\n",
            "----------------------------\n",
            "Test Accuracy: 0.467441 (ε = 2.30, δ = 8e-05)\n",
            "----------------------------\n",
            "\n",
            "\t Epoch 1. Accuracy: 0.467498 | Loss: 1.924712\n",
            "\t Epoch 2. Accuracy: 0.469888 | Loss: 1.908918\n",
            "\t Epoch 3. Accuracy: 0.472425 | Loss: 1.899633\n",
            "\t Epoch 4. Accuracy: 0.474120 | Loss: 1.900182\n",
            "\t Epoch 5. Accuracy: 0.472274 | Loss: 1.908573\n",
            "\n",
            "----------------------------\n",
            "Test Accuracy: 0.467441 (ε = 4.16, δ = 8e-05)\n",
            "----------------------------\n",
            "\n",
            "\t Epoch 6. Accuracy: 0.516097 | Loss: 1.641299\n",
            "\t Epoch 7. Accuracy: 0.552329 | Loss: 1.531255\n",
            "\t Epoch 8. Accuracy: 0.599319 | Loss: 1.413523\n",
            "\t Epoch 9. Accuracy: 0.608903 | Loss: 1.390367\n",
            "\t Epoch 10. Accuracy: 0.624260 | Loss: 1.365407\n",
            "\n",
            "----------------------------\n",
            "Test Accuracy: 0.615449 (ε = 5.43, δ = 8e-05)\n",
            "----------------------------\n",
            "\n",
            "\t Epoch 11. Accuracy: 0.630501 | Loss: 1.345939\n",
            "\t Epoch 12. Accuracy: 0.638316 | Loss: 1.326304\n",
            "\t Epoch 13. Accuracy: 0.639132 | Loss: 1.332115\n",
            "\t Epoch 14. Accuracy: 0.641470 | Loss: 1.310822\n",
            "\t Epoch 15. Accuracy: 0.644555 | Loss: 1.329433\n",
            "\n",
            "----------------------------\n",
            "Test Accuracy: 0.639277 (ε = 6.51, δ = 8e-05)\n",
            "----------------------------\n",
            "\n",
            "\t Epoch 16. Accuracy: 0.650924 | Loss: 1.299537\n",
            "\t Epoch 17. Accuracy: 0.659505 | Loss: 1.295269\n",
            "\t Epoch 18. Accuracy: 0.659107 | Loss: 1.307129\n",
            "\t Epoch 19. Accuracy: 0.666939 | Loss: 1.276916\n",
            "\t Epoch 20. Accuracy: 0.671840 | Loss: 1.264140\n",
            "\n",
            "----------------------------\n",
            "Test Accuracy: 0.668066 (ε = 7.46, δ = 8e-05)\n",
            "----------------------------\n",
            "\n",
            "\t Epoch 21. Accuracy: 0.669665 | Loss: 1.278789\n",
            "\t Epoch 22. Accuracy: 0.673664 | Loss: 1.273071\n",
            "\t Epoch 23. Accuracy: 0.673854 | Loss: 1.275167\n",
            "\t Epoch 24. Accuracy: 0.684567 | Loss: 1.224471\n",
            "\t Epoch 25. Accuracy: 0.694933 | Loss: 1.206937\n",
            "\n",
            "----------------------------\n",
            "Test Accuracy: 0.687882 (ε = 8.33, δ = 8e-05)\n",
            "----------------------------\n",
            "\n",
            "\t Epoch 26. Accuracy: 0.697808 | Loss: 1.182353\n",
            "\t Epoch 27. Accuracy: 0.699496 | Loss: 1.187852\n",
            "\t Epoch 28. Accuracy: 0.698346 | Loss: 1.196234\n",
            "\t Epoch 29. Accuracy: 0.714722 | Loss: 1.144795\n",
            "\t Epoch 30. Accuracy: 0.715993 | Loss: 1.153953\n",
            "\n",
            "----------------------------\n",
            "Test Accuracy: 0.695405 (ε = 9.15, δ = 8e-05)\n",
            "----------------------------\n",
            "\n",
            "\t Epoch 31. Accuracy: 0.715305 | Loss: 1.148105\n",
            "\t Epoch 32. Accuracy: 0.731195 | Loss: 1.111873\n",
            "\t Epoch 33. Accuracy: 0.731310 | Loss: 1.114180\n",
            "\t Epoch 34. Accuracy: 0.724226 | Loss: 1.148919\n",
            "\t Epoch 35. Accuracy: 0.728763 | Loss: 1.126038\n",
            "\n",
            "----------------------------\n",
            "Test Accuracy: 0.715877 (ε = 9.93, δ = 8e-05)\n",
            "----------------------------\n",
            "\n",
            "\t Epoch 36. Accuracy: 0.727860 | Loss: 1.134971\n",
            "\t Epoch 37. Accuracy: 0.733273 | Loss: 1.115158\n",
            "\t Epoch 38. Accuracy: 0.734070 | Loss: 1.096814\n",
            "\t Epoch 39. Accuracy: 0.737077 | Loss: 1.093431\n",
            "\t Epoch 40. Accuracy: 0.749284 | Loss: 1.068319\n",
            "\n",
            "----------------------------\n",
            "Test Accuracy: 0.718971 (ε = 10.67, δ = 8e-05)\n",
            "----------------------------\n",
            "\n",
            "\t Epoch 41. Accuracy: 0.748596 | Loss: 1.059153\n",
            "\t Epoch 42. Accuracy: 0.733399 | Loss: 1.101667\n",
            "\t Epoch 43. Accuracy: 0.743442 | Loss: 1.058982\n",
            "\t Epoch 44. Accuracy: 0.748574 | Loss: 1.057396\n",
            "\t Epoch 45. Accuracy: 0.748715 | Loss: 1.052825\n",
            "\n",
            "----------------------------\n",
            "Test Accuracy: 0.732136 (ε = 11.38, δ = 8e-05)\n",
            "----------------------------\n",
            "\n",
            "\t Epoch 46. Accuracy: 0.756233 | Loss: 1.036524\n",
            "\t Epoch 47. Accuracy: 0.756881 | Loss: 1.022016\n",
            "\t Epoch 48. Accuracy: 0.758476 | Loss: 1.046646\n",
            "\t Epoch 49. Accuracy: 0.753460 | Loss: 1.050763\n",
            "\n",
            "----------------------------\n",
            "Test Accuracy: 0.722228 (ε = 11.93, δ = 8e-05)\n",
            "----------------------------\n",
            "\n"
          ]
        }
      ]
    },
    {
      "cell_type": "markdown",
      "metadata": {
        "id": "HBCIxnv7fLLh"
      },
      "source": [
        "The differentially-private name classification model obtains a test accuracy of 0.73 with an epsilon of just under 12. This shows that we can achieve a good accuracy on this task, with minimal loss of privacy."
      ]
    },
    {
      "cell_type": "markdown",
      "metadata": {
        "id": "csjuQn2NfLLi"
      },
      "source": [
        "## Training the name classifier without privacy"
      ]
    },
    {
      "cell_type": "markdown",
      "metadata": {
        "id": "LVCaDSGzfLLi"
      },
      "source": [
        " We also run a comparison with a non-private model to see if the performance obtained with privacy is comparable to it. To do this, we keep the parameters such as learning rate and batch size the same, and only define a different instance of the model along with a separate optimizer."
      ]
    },
    {
      "cell_type": "code",
      "metadata": {
        "id": "6a45gAjLfLLi"
      },
      "source": [
        "model_nodp = CharNNClassifier(\n",
        "    embedding_size,\n",
        "    hidden_size,\n",
        "    len(ds.labels),\n",
        "    n_lstm_layers,\n",
        "    bidirectional_lstm,\n",
        ").to(device)\n",
        "\n",
        "\n",
        "optimizer_nodp = torch.optim.SGD(model_nodp.parameters(), lr=0.5)"
      ],
      "execution_count": 15,
      "outputs": []
    },
    {
      "cell_type": "code",
      "metadata": {
        "colab": {
          "base_uri": "https://localhost:8080/"
        },
        "id": "FNa0qxQYfLLi",
        "outputId": "466baeda-861f-45d4-d543-acb456a993e0"
      },
      "source": [
        "for epoch in range(epochs):\n",
        "    train(model_nodp, criterion, optimizer_nodp, train_loader, epoch, device=device)\n",
        "    if test_every:\n",
        "        if epoch % test_every == 0:\n",
        "            test(model_nodp, test_loader, None, device=device)\n",
        "\n",
        "test(model_nodp, test_loader, None, device=device)"
      ],
      "execution_count": 16,
      "outputs": [
        {
          "output_type": "stream",
          "name": "stdout",
          "text": [
            "\t Epoch 0. Accuracy: 0.450476 | Loss: 1.940132\n",
            "\n",
            "----------------------------\n",
            "Test Accuracy: 0.180709\n",
            "----------------------------\n",
            "\n",
            "\t Epoch 1. Accuracy: 0.455160 | Loss: 1.869254\n",
            "\t Epoch 2. Accuracy: 0.466358 | Loss: 1.856798\n",
            "\t Epoch 3. Accuracy: 0.468998 | Loss: 1.851882\n",
            "\t Epoch 4. Accuracy: 0.471672 | Loss: 1.833466\n",
            "\t Epoch 5. Accuracy: 0.477641 | Loss: 1.840590\n",
            "\n",
            "----------------------------\n",
            "Test Accuracy: 0.467441\n",
            "----------------------------\n",
            "\n",
            "\t Epoch 6. Accuracy: 0.474968 | Loss: 1.821111\n",
            "\t Epoch 7. Accuracy: 0.496894 | Loss: 1.680423\n",
            "\t Epoch 8. Accuracy: 0.543642 | Loss: 1.548960\n",
            "\t Epoch 9. Accuracy: 0.542701 | Loss: 1.536907\n",
            "\t Epoch 10. Accuracy: 0.554926 | Loss: 1.494247\n",
            "\n",
            "----------------------------\n",
            "Test Accuracy: 0.558903\n",
            "----------------------------\n",
            "\n",
            "\t Epoch 11. Accuracy: 0.562105 | Loss: 1.454725\n",
            "\t Epoch 12. Accuracy: 0.566490 | Loss: 1.436242\n",
            "\t Epoch 13. Accuracy: 0.591985 | Loss: 1.383770\n",
            "\t Epoch 14. Accuracy: 0.600778 | Loss: 1.359740\n",
            "\t Epoch 15. Accuracy: 0.598711 | Loss: 1.354328\n",
            "\n",
            "----------------------------\n",
            "Test Accuracy: 0.619623\n",
            "----------------------------\n",
            "\n",
            "\t Epoch 16. Accuracy: 0.631655 | Loss: 1.271659\n",
            "\t Epoch 17. Accuracy: 0.636732 | Loss: 1.234677\n",
            "\t Epoch 18. Accuracy: 0.648826 | Loss: 1.206448\n",
            "\t Epoch 19. Accuracy: 0.654160 | Loss: 1.193296\n",
            "\t Epoch 20. Accuracy: 0.671051 | Loss: 1.152722\n",
            "\n",
            "----------------------------\n",
            "Test Accuracy: 0.650249\n",
            "----------------------------\n",
            "\n",
            "\t Epoch 21. Accuracy: 0.681845 | Loss: 1.107757\n",
            "\t Epoch 22. Accuracy: 0.682821 | Loss: 1.099702\n",
            "\t Epoch 23. Accuracy: 0.687868 | Loss: 1.086043\n",
            "\t Epoch 24. Accuracy: 0.693895 | Loss: 1.069415\n",
            "\t Epoch 25. Accuracy: 0.696089 | Loss: 1.059302\n",
            "\n",
            "----------------------------\n",
            "Test Accuracy: 0.687921\n",
            "----------------------------\n",
            "\n",
            "\t Epoch 26. Accuracy: 0.704285 | Loss: 1.026057\n",
            "\t Epoch 27. Accuracy: 0.713030 | Loss: 1.003145\n",
            "\t Epoch 28. Accuracy: 0.712751 | Loss: 0.998981\n",
            "\t Epoch 29. Accuracy: 0.719636 | Loss: 0.966212\n",
            "\t Epoch 30. Accuracy: 0.717594 | Loss: 0.979863\n",
            "\n",
            "----------------------------\n",
            "Test Accuracy: 0.714179\n",
            "----------------------------\n",
            "\n",
            "\t Epoch 31. Accuracy: 0.716881 | Loss: 0.961884\n",
            "\t Epoch 32. Accuracy: 0.730926 | Loss: 0.931779\n",
            "\t Epoch 33. Accuracy: 0.729860 | Loss: 0.925245\n",
            "\t Epoch 34. Accuracy: 0.734577 | Loss: 0.910197\n",
            "\t Epoch 35. Accuracy: 0.744619 | Loss: 0.870394\n",
            "\n",
            "----------------------------\n",
            "Test Accuracy: 0.711664\n",
            "----------------------------\n",
            "\n",
            "\t Epoch 36. Accuracy: 0.739070 | Loss: 0.887383\n",
            "\t Epoch 37. Accuracy: 0.746392 | Loss: 0.865910\n",
            "\t Epoch 38. Accuracy: 0.749469 | Loss: 0.858383\n",
            "\t Epoch 39. Accuracy: 0.739901 | Loss: 0.880753\n",
            "\t Epoch 40. Accuracy: 0.753783 | Loss: 0.850452\n",
            "\n",
            "----------------------------\n",
            "Test Accuracy: 0.742923\n",
            "----------------------------\n",
            "\n",
            "\t Epoch 41. Accuracy: 0.760557 | Loss: 0.825776\n",
            "\t Epoch 42. Accuracy: 0.758471 | Loss: 0.823470\n",
            "\t Epoch 43. Accuracy: 0.757290 | Loss: 0.815470\n",
            "\t Epoch 44. Accuracy: 0.761676 | Loss: 0.805960\n",
            "\t Epoch 45. Accuracy: 0.765040 | Loss: 0.800239\n",
            "\n",
            "----------------------------\n",
            "Test Accuracy: 0.739103\n",
            "----------------------------\n",
            "\n",
            "\t Epoch 46. Accuracy: 0.777298 | Loss: 0.764890\n",
            "\t Epoch 47. Accuracy: 0.768893 | Loss: 0.778772\n",
            "\t Epoch 48. Accuracy: 0.767321 | Loss: 0.781153\n",
            "\t Epoch 49. Accuracy: 0.783161 | Loss: 0.736371\n",
            "\n",
            "----------------------------\n",
            "Test Accuracy: 0.774845\n",
            "----------------------------\n",
            "\n"
          ]
        }
      ]
    },
    {
      "cell_type": "markdown",
      "metadata": {
        "id": "hxKM6HuFfLLi"
      },
      "source": [
        "We run the training loop again, this time without privacy and for the same number of iterations. "
      ]
    },
    {
      "cell_type": "markdown",
      "metadata": {
        "id": "Kx9c7RQFfLLi"
      },
      "source": [
        "The non-private classifier obtains a test accuracy of around 0.77 with the same parameters and number of epochs. We are effectively trading off performance on the name classification task for a lower loss of privacy."
      ]
    },
    {
      "cell_type": "code",
      "metadata": {
        "id": "-5zED-j_idTS"
      },
      "source": [
        ""
      ],
      "execution_count": null,
      "outputs": []
    }
  ]
}